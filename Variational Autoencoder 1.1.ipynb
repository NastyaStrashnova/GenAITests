{
 "cells": [
  {
   "cell_type": "code",
   "execution_count": 1,
   "metadata": {},
   "outputs": [
    {
     "name": "stderr",
     "output_type": "stream",
     "text": [
      "2024-06-09 21:49:22.303707: I tensorflow/core/platform/cpu_feature_guard.cc:182] This TensorFlow binary is optimized to use available CPU instructions in performance-critical operations.\n",
      "To enable the following instructions: AVX2 FMA, in other operations, rebuild TensorFlow with the appropriate compiler flags.\n"
     ]
    }
   ],
   "source": [
    "%load_ext autoreload\n",
    "%autoreload 2\n",
    "\n",
    "import numpy as np\n",
    "import matplotlib.pyplot as plt\n",
    "\n",
    "import tensorflow as tf\n",
    "import tensorflow.keras.backend as K\n",
    "from tensorflow.keras import (\n",
    "    layers,\n",
    "    models,\n",
    "    datasets,\n",
    "    callbacks,\n",
    "    losses,\n",
    "    optimizers,\n",
    "    metrics,\n",
    ")\n",
    "\n",
    "from scipy.stats import norm"
   ]
  },
  {
   "cell_type": "markdown",
   "metadata": {},
   "source": [
    "# 1. Data"
   ]
  },
  {
   "cell_type": "code",
   "execution_count": 2,
   "metadata": {},
   "outputs": [],
   "source": [
    "(x_train, y_train), (x_test, y_test) = datasets.fashion_mnist.load_data()"
   ]
  },
  {
   "cell_type": "code",
   "execution_count": 3,
   "metadata": {},
   "outputs": [],
   "source": [
    "def preprocess(imgs):\n",
    "    imgs = imgs.astype(\"float32\") / 255.0\n",
    "    imgs = np.pad(imgs, ((0, 0), (2, 2), (2, 2)), constant_values=0.0)\n",
    "    imgs = np.expand_dims(imgs, -1)\n",
    "    return imgs\n",
    "\n",
    "\n",
    "x_train = preprocess(x_train)\n",
    "x_test = preprocess(x_test)"
   ]
  },
  {
   "cell_type": "markdown",
   "metadata": {},
   "source": [
    "# 2. Variational autoencoder"
   ]
  },
  {
   "cell_type": "code",
   "execution_count": 15,
   "metadata": {},
   "outputs": [],
   "source": [
    "class Sampling(layers.Layer):\n",
    "    def call(self, inputs):\n",
    "        z_mean, z_log_var = inputs\n",
    "        batch = tf.shape(z_mean)[0]\n",
    "        dim = tf.shape(z_mean)[1]\n",
    "        epsilon = K.random_normal(shape=(batch, dim))\n",
    "        return z_mean + tf.exp(z_log_var * 0.5)*epsilon\n",
    "        "
   ]
  },
  {
   "cell_type": "code",
   "execution_count": 6,
   "metadata": {},
   "outputs": [],
   "source": [
    "encoder_input = layers.Input(shape=x_train[0].shape, name='e_input')\n",
    "x = layers.Conv2D(32, (3,3), 2,'same', activation = 'relu')(encoder_input)\n",
    "x = layers.Conv2D(64, (3,3), 2,'same', activation = 'relu')(x)\n",
    "x = layers.Conv2D(128, (3,3), 2,'same', activation = 'relu')(x)\n",
    "\n",
    "shape_before_flattening = K.int_shape(x)[1:] # shape of the tensor\n",
    "\n",
    "x = layers.Flatten()(x)\n",
    "z_mean = layers.Dense(2, name='z_mean')(x)\n",
    "z_log_var = layers.Dense(2, name='z_log_var')(x)\n",
    "z = Sampling()([z_mean, z_log_var])\n",
    "encoder = models.Model(encoder_input,[z_mean,z_log_var,z], name = 'encoder')"
   ]
  },
  {
   "cell_type": "code",
   "execution_count": 7,
   "metadata": {
    "collapsed": true
   },
   "outputs": [
    {
     "name": "stdout",
     "output_type": "stream",
     "text": [
      "Model: \"encoder\"\n",
      "__________________________________________________________________________________________________\n",
      " Layer (type)                Output Shape                 Param #   Connected to                  \n",
      "==================================================================================================\n",
      " e_input (InputLayer)        [(None, 32, 32, 1)]          0         []                            \n",
      "                                                                                                  \n",
      " conv2d (Conv2D)             (None, 16, 16, 32)           320       ['e_input[0][0]']             \n",
      "                                                                                                  \n",
      " conv2d_1 (Conv2D)           (None, 8, 8, 64)             18496     ['conv2d[0][0]']              \n",
      "                                                                                                  \n",
      " conv2d_2 (Conv2D)           (None, 4, 4, 128)            73856     ['conv2d_1[0][0]']            \n",
      "                                                                                                  \n",
      " flatten (Flatten)           (None, 2048)                 0         ['conv2d_2[0][0]']            \n",
      "                                                                                                  \n",
      " z_mean (Dense)              (None, 2)                    4098      ['flatten[0][0]']             \n",
      "                                                                                                  \n",
      " z_log_var (Dense)           (None, 2)                    4098      ['flatten[0][0]']             \n",
      "                                                                                                  \n",
      " sampling (Sampling)         (None, 2)                    0         ['z_mean[0][0]',              \n",
      "                                                                     'z_log_var[0][0]']           \n",
      "                                                                                                  \n",
      "==================================================================================================\n",
      "Total params: 100868 (394.02 KB)\n",
      "Trainable params: 100868 (394.02 KB)\n",
      "Non-trainable params: 0 (0.00 Byte)\n",
      "__________________________________________________________________________________________________\n"
     ]
    }
   ],
   "source": [
    "encoder.summary()"
   ]
  },
  {
   "cell_type": "code",
   "execution_count": 8,
   "metadata": {},
   "outputs": [],
   "source": [
    "decoder_input = layers.Input(shape=(2,), name='d_input')\n",
    "x = layers.Dense(np.prod(shape_before_flattening) )(decoder_input)\n",
    "x = layers.Reshape(shape_before_flattening)(x)\n",
    "x = layers.Conv2DTranspose(128, (3,3), 2,'same', activation = 'relu')(x)\n",
    "x = layers.Conv2DTranspose(64, (3,3), 2,'same', activation = 'relu')(x)\n",
    "x = layers.Conv2DTranspose(32, (3,3), 2,'same', activation = 'relu')(x)\n",
    "decoder_output = layers.Conv2D(1,(3,3), 1, 'same', activation = 'sigmoid',name='d_output')(x)\n",
    "decoder = models.Model(decoder_input, decoder_output)"
   ]
  },
  {
   "cell_type": "code",
   "execution_count": null,
   "metadata": {},
   "outputs": [],
   "source": []
  },
  {
   "cell_type": "code",
   "execution_count": 19,
   "metadata": {},
   "outputs": [],
   "source": [
    "class VAE(models.Model):\n",
    "    def __init__(self, encoder, decoder, **kwargs):\n",
    "        super(VAE, self).__init__(**kwargs)\n",
    "        self.encoder = encoder\n",
    "        self.decoder = decoder\n",
    "        self.total_loss_tracker = metrics.Mean(name = \"total_loss\")\n",
    "        self.reconstruction_loss_tracker = metrics.Mean(name = \"reconstruction_loss\")\n",
    "        self.kl_loss_tracker = metrics.Mean(name=\"kl_loss\")\n",
    "        \n",
    "    @property\n",
    "    def metrics(self):\n",
    "        return [\n",
    "            self.total_loss_tracker,\n",
    "            self.reconstruction_loss_tracker,\n",
    "            self.kl_loss_tracker,\n",
    "        ]\n",
    "    \n",
    "    def call(self, inputs):\n",
    "        z_mean,z_log_var,z = encoder(inputs) # encoder output\n",
    "        reconstruction = decoder(z)\n",
    "        return z_mean, z_log_var, reconstruction\n",
    "    \n",
    "    def train_step(self, data):\n",
    "        with tf.GradientTape() as tape: # differentiation func\n",
    "            z_mean, z_log_var, reconstruction = self(data)\n",
    "            reconstruction_loss = tf.reduce_mean(500 * losses.binary_crossentropy(data, reconstruction,\n",
    "                                                                                    axis=(1, 2, 3)))\n",
    "                                                        # computes the cross-entropy between the true binary  \n",
    "                                                        # labels and the predicted probabilities\n",
    "                    \n",
    "                                # mean value of elements across dimensions of a tensor\n",
    "            \n",
    "            \n",
    "            kl_loss = tf.reduce_mean(\n",
    "                tf.reduce_sum(-0.5* (1 + z_log_var - tf.square(z_mean) - tf.exp(z_log_var)),axis=1,)) \n",
    "                # sum of elements across dimensions of a tensor\n",
    "                \n",
    "            total_loss = reconstruction_loss + kl_loss\n",
    "            \n",
    "        grads = tape.gradient(total_loss, self.trainable_weights)\n",
    "        self.optimizer.apply_gradients(zip(grads, self.trainable_weights))\n",
    "        \n",
    "        self.total_loss_tracker.update_state(total_loss)\n",
    "        self.reconstruction_loss_tracker.update_state(reconstruction_loss)\n",
    "        self.kl_loss_tracker.update_state(kl_loss)\n",
    "        \n",
    "        return {m.name: m.result() for m in self.metrics}\n",
    "    \n",
    "    def test_step(self, data):\n",
    "        if isinstance(data, tuple):\n",
    "            data = data[0]\n",
    "\n",
    "        z_mean, z_log_var, reconstruction = self(data)\n",
    "        reconstruction_loss = tf.reduce_mean(500 * losses.binary_crossentropy(data, reconstruction,\n",
    "                                                                               axis=(1, 2, 3)))\n",
    "        \n",
    "        kl_loss = tf.reduce_mean(tf.reduce_sum(-0.5 * (1 + z_log_var - tf.square(z_mean) - tf.exp(z_log_var)),\n",
    "                                               axis=1,))\n",
    "        total_loss = reconstruction_loss + kl_loss\n",
    "\n",
    "        return {\n",
    "            \"loss\": total_loss,\n",
    "            \"reconstruction_loss\": reconstruction_loss,\n",
    "            \"kl_loss\": kl_loss,\n",
    "        }\n",
    "            \n",
    "        \n",
    "        "
   ]
  },
  {
   "cell_type": "code",
   "execution_count": 16,
   "metadata": {},
   "outputs": [],
   "source": [
    "vae = VAE(encoder, decoder)"
   ]
  },
  {
   "cell_type": "code",
   "execution_count": 17,
   "metadata": {},
   "outputs": [],
   "source": [
    "optimizer = optimizers.Adam(learning_rate=0.0005)\n",
    "vae.compile(optimizer=optimizer)"
   ]
  },
  {
   "cell_type": "code",
   "execution_count": 18,
   "metadata": {},
   "outputs": [
    {
     "name": "stdout",
     "output_type": "stream",
     "text": [
      "Epoch 1/5\n",
      "600/600 [==============================] - 85s 135ms/step - total_loss: 161.1696 - reconstruction_loss: 156.8176 - kl_loss: 4.3520 - val_loss: 140.9019 - val_reconstruction_loss: 136.1136 - val_kl_loss: 4.7883\n",
      "Epoch 2/5\n",
      "600/600 [==============================] - 86s 144ms/step - total_loss: 135.5509 - reconstruction_loss: 130.6721 - kl_loss: 4.8789 - val_loss: 137.0963 - val_reconstruction_loss: 132.1149 - val_kl_loss: 4.9815\n",
      "Epoch 3/5\n",
      "600/600 [==============================] - 85s 142ms/step - total_loss: 133.8230 - reconstruction_loss: 128.8182 - kl_loss: 5.0048 - val_loss: 136.6431 - val_reconstruction_loss: 131.5822 - val_kl_loss: 5.0610\n",
      "Epoch 4/5\n",
      "600/600 [==============================] - 82s 137ms/step - total_loss: 133.0914 - reconstruction_loss: 128.0305 - kl_loss: 5.0609 - val_loss: 136.1432 - val_reconstruction_loss: 130.8761 - val_kl_loss: 5.2671\n",
      "Epoch 5/5\n",
      "600/600 [==============================] - 85s 142ms/step - total_loss: 132.5215 - reconstruction_loss: 127.4078 - kl_loss: 5.1136 - val_loss: 135.6146 - val_reconstruction_loss: 130.2070 - val_kl_loss: 5.4075\n"
     ]
    },
    {
     "data": {
      "text/plain": [
       "<keras.src.callbacks.History at 0x7fe16a5435b0>"
      ]
     },
     "execution_count": 18,
     "metadata": {},
     "output_type": "execute_result"
    }
   ],
   "source": [
    "vae.fit(\n",
    "    x_train,\n",
    "    epochs=5,\n",
    "    batch_size=100,\n",
    "    shuffle=True,\n",
    "    validation_data=(x_test, x_test)\n",
    ")"
   ]
  },
  {
   "cell_type": "code",
   "execution_count": 19,
   "metadata": {},
   "outputs": [],
   "source": [
    "n_to_predict = 5000\n",
    "example_images = x_test[:n_to_predict]\n",
    "example_labels = y_test[:n_to_predict]"
   ]
  },
  {
   "cell_type": "code",
   "execution_count": 20,
   "metadata": {},
   "outputs": [
    {
     "data": {
      "image/png": "[encoded data removed]",
      "text/plain": [
       "<Figure size 640x480 with 15 Axes>"
      ]
     },
     "metadata": {},
     "output_type": "display_data"
    }
   ],
   "source": [
    "for i in range(15):\n",
    "    plt.subplot(3, 5, i + 1) \n",
    "    plt.imshow(example_images[i], cmap='gray')\n",
    "    plt.axis('off')\n",
    "\n",
    "plt.tight_layout()\n",
    "plt.show()"
   ]
  },
  {
   "cell_type": "code",
   "execution_count": 28,
   "metadata": {},
   "outputs": [
    {
     "name": "stdout",
     "output_type": "stream",
     "text": [
      "157/157 [==============================] - 2s 14ms/step\n"
     ]
    }
   ],
   "source": [
    "z_mean, z_log_var, reconstructions = vae.predict(example_images)"
   ]
  },
  {
   "cell_type": "code",
   "execution_count": 22,
   "metadata": {},
   "outputs": [
    {
     "data": {
      "image/png": "[encoded data removed]",
      "text/plain": [
       "<Figure size 640x480 with 15 Axes>"
      ]
     },
     "metadata": {},
     "output_type": "display_data"
    }
   ],
   "source": [
    "for i in range(15):\n",
    "    plt.subplot(3, 5, i + 1) \n",
    "    plt.imshow(reconstructions[i], cmap='gray')\n",
    "    plt.axis('off')\n",
    "\n",
    "plt.tight_layout()\n",
    "plt.show()"
   ]
  },
  {
   "cell_type": "code",
   "execution_count": null,
   "metadata": {},
   "outputs": [],
   "source": []
  },
  {
   "cell_type": "markdown",
   "metadata": {},
   "source": [
    "# CelebA dataset"
   ]
  },
  {
   "cell_type": "code",
   "execution_count": 2,
   "metadata": {},
   "outputs": [],
   "source": [
    "def sample_batch(dataset):\n",
    "    batch = dataset.take(1).get_single_element()\n",
    "    if isinstance(batch, tuple):\n",
    "        batch = batch[0]\n",
    "    return batch.numpy()\n",
    "\n",
    "\n",
    "def display(\n",
    "    images, n=10, size=(20, 3), cmap=\"gray_r\", as_type=\"float32\", save_to=None\n",
    "):\n",
    "    \"\"\"\n",
    "    Displays n random images from each one of the supplied arrays.\n",
    "    \"\"\"\n",
    "    if images.max() > 1.0:\n",
    "        images = images / 255.0\n",
    "    elif images.min() < 0.0:\n",
    "        images = (images + 1.0) / 2.0\n",
    "\n",
    "    plt.figure(figsize=size)\n",
    "    for i in range(n):\n",
    "        _ = plt.subplot(1, n, i + 1)\n",
    "        plt.imshow(images[i].astype(as_type), cmap=cmap)\n",
    "        plt.axis(\"off\")\n",
    "\n",
    "    if save_to:\n",
    "        plt.savefig(save_to)\n",
    "        print(f\"\\nSaved to {save_to}\")\n",
    "\n",
    "    plt.show()"
   ]
  },
  {
   "cell_type": "code",
   "execution_count": 3,
   "metadata": {},
   "outputs": [],
   "source": [
    "from vae_utils import get_vector_from_label, add_vector_to_images, morph_faces\n",
    "from tensorflow.keras import (\n",
    "    layers,\n",
    "    models,\n",
    "    callbacks,\n",
    "    utils,\n",
    "    metrics,\n",
    "    losses,\n",
    "    optimizers,\n",
    ")"
   ]
  },
  {
   "cell_type": "code",
   "execution_count": 4,
   "metadata": {},
   "outputs": [
    {
     "name": "stdout",
     "output_type": "stream",
     "text": [
      "Found 202599 files belonging to 1 classes.\n"
     ]
    }
   ],
   "source": [
    "train_data = utils.image_dataset_from_directory(\n",
    "    \"/Users/nastyastrashnova/Study/GitReposotories/dataset/img_align_celeba\",\n",
    "    labels=None,\n",
    "    color_mode=\"rgb\",\n",
    "    image_size=(32, 32),\n",
    "    batch_size=128,\n",
    "    shuffle=True,\n",
    "    seed=42,\n",
    "    interpolation=\"bilinear\",\n",
    ")"
   ]
  },
  {
   "cell_type": "code",
   "execution_count": 5,
   "metadata": {},
   "outputs": [],
   "source": [
    "def preprocess(img):\n",
    "    img = tf.cast(img, \"float32\") / 255.0\n",
    "    return img\n",
    "\n",
    "\n",
    "train = train_data.map(lambda x: preprocess(x))"
   ]
  },
  {
   "cell_type": "code",
   "execution_count": 6,
   "metadata": {},
   "outputs": [],
   "source": [
    "train_sample = sample_batch(train)"
   ]
  },
  {
   "cell_type": "code",
   "execution_count": 23,
   "metadata": {},
   "outputs": [
    {
     "data": {
      "image/png": "[encoded data removed]",
      "text/plain": [
       "<Figure size 2000x300 with 10 Axes>"
      ]
     },
     "metadata": {},
     "output_type": "display_data"
    }
   ],
   "source": [
    "display(train_sample, cmap=None)"
   ]
  },
  {
   "cell_type": "code",
   "execution_count": 51,
   "metadata": {},
   "outputs": [
    {
     "data": {
      "text/plain": [
       "array([[[0.6425245 , 0.40784314, 0.2319853 ],\n",
       "        [0.6540594 , 0.37231925, 0.17501532],\n",
       "        [0.4659467 , 0.23383884, 0.08874081],\n",
       "        ...,\n",
       "        [0.544761  , 0.36733687, 0.26334634],\n",
       "        [0.6664943 , 0.4440602 , 0.3154565 ],\n",
       "        [0.5847771 , 0.33393842, 0.19641927]],\n",
       "\n",
       "       [[0.59136415, 0.3443053 , 0.17567785],\n",
       "        [0.52431065, 0.26720282, 0.101394  ],\n",
       "        [0.51331955, 0.2632353 , 0.11695389],\n",
       "        ...,\n",
       "        [0.35359988, 0.21413909, 0.13962929],\n",
       "        [0.51692325, 0.35520834, 0.2512638 ],\n",
       "        [0.67635953, 0.5008119 , 0.36814108]],\n",
       "\n",
       "       [[0.5821768 , 0.3238013 , 0.13939185],\n",
       "        [0.44089308, 0.19383425, 0.05657935],\n",
       "        [0.5567287 , 0.29313725, 0.12143459],\n",
       "        ...,\n",
       "        [0.31335402, 0.2052428 , 0.14949448],\n",
       "        [0.32731694, 0.20991498, 0.1387523 ],\n",
       "        [0.3432445 , 0.20988435, 0.1282935 ]],\n",
       "\n",
       "       ...,\n",
       "\n",
       "       [[0.88443625, 0.8883578 , 0.86875   ],\n",
       "        [0.8722197 , 0.8682981 , 0.85261184],\n",
       "        [0.9019608 , 0.88468134, 0.87291664],\n",
       "        ...,\n",
       "        [0.6647212 , 0.48211166, 0.42912453],\n",
       "        [0.98031175, 0.9472618 , 0.9369677 ],\n",
       "        [0.95216376, 0.97745097, 0.97686505]],\n",
       "\n",
       "       [[0.90023744, 0.89737666, 0.8675896 ],\n",
       "        [0.8725758 , 0.85581344, 0.8141965 ],\n",
       "        [0.88815486, 0.860455  , 0.83774126],\n",
       "        ...,\n",
       "        [0.98954123, 0.9338044 , 0.9154986 ],\n",
       "        [0.9600452 , 0.96325827, 0.9646331 ],\n",
       "        [0.9331955 , 0.9529833 , 0.96567863]],\n",
       "\n",
       "       [[0.89956725, 0.8195236 , 0.8011795 ],\n",
       "        [0.88865656, 0.8110754 , 0.7678807 ],\n",
       "        [0.873135  , 0.80710787, 0.8054611 ],\n",
       "        ...,\n",
       "        [0.9690181 , 0.96862364, 0.9525697 ],\n",
       "        [0.9446576 , 0.92652035, 0.9213082 ],\n",
       "        [0.89857537, 0.8820504 , 0.84075135]]], dtype=float32)"
      ]
     },
     "execution_count": 51,
     "metadata": {},
     "output_type": "execute_result"
    }
   ],
   "source": [
    "train_sample[0]#[0][0]"
   ]
  },
  {
   "cell_type": "markdown",
   "metadata": {},
   "source": [
    "### new encoder"
   ]
  },
  {
   "cell_type": "code",
   "execution_count": 11,
   "metadata": {},
   "outputs": [
    {
     "data": {
      "text/plain": [
       "<_MapDataset element_spec=TensorSpec(shape=(None, 32, 32, 3), dtype=tf.float32, name=None)>"
      ]
     },
     "execution_count": 11,
     "metadata": {},
     "output_type": "execute_result"
    }
   ],
   "source": [
    "train"
   ]
  },
  {
   "cell_type": "code",
   "execution_count": 31,
   "metadata": {
    "scrolled": true
   },
   "outputs": [
    {
     "name": "stdout",
     "output_type": "stream",
     "text": [
      "Model: \"encoder\"\n",
      "__________________________________________________________________________________________________\n",
      " Layer (type)                Output Shape                 Param #   Connected to                  \n",
      "==================================================================================================\n",
      " encoder_input (InputLayer)  [(None, 32, 32, 3)]          0         []                            \n",
      "                                                                                                  \n",
      " conv2d_12 (Conv2D)          (None, 16, 16, 128)          3584      ['encoder_input[0][0]']       \n",
      "                                                                                                  \n",
      " batch_normalization_22 (Ba  (None, 16, 16, 128)          512       ['conv2d_12[0][0]']           \n",
      " tchNormalization)                                                                                \n",
      "                                                                                                  \n",
      " leaky_re_lu_23 (LeakyReLU)  (None, 16, 16, 128)          0         ['batch_normalization_22[0][0]\n",
      "                                                                    ']                            \n",
      "                                                                                                  \n",
      " conv2d_13 (Conv2D)          (None, 8, 8, 128)            147584    ['leaky_re_lu_23[0][0]']      \n",
      "                                                                                                  \n",
      " batch_normalization_23 (Ba  (None, 8, 8, 128)            512       ['conv2d_13[0][0]']           \n",
      " tchNormalization)                                                                                \n",
      "                                                                                                  \n",
      " leaky_re_lu_24 (LeakyReLU)  (None, 8, 8, 128)            0         ['batch_normalization_23[0][0]\n",
      "                                                                    ']                            \n",
      "                                                                                                  \n",
      " conv2d_14 (Conv2D)          (None, 4, 4, 128)            147584    ['leaky_re_lu_24[0][0]']      \n",
      "                                                                                                  \n",
      " batch_normalization_24 (Ba  (None, 4, 4, 128)            512       ['conv2d_14[0][0]']           \n",
      " tchNormalization)                                                                                \n",
      "                                                                                                  \n",
      " leaky_re_lu_25 (LeakyReLU)  (None, 4, 4, 128)            0         ['batch_normalization_24[0][0]\n",
      "                                                                    ']                            \n",
      "                                                                                                  \n",
      " conv2d_15 (Conv2D)          (None, 2, 2, 128)            147584    ['leaky_re_lu_25[0][0]']      \n",
      "                                                                                                  \n",
      " batch_normalization_25 (Ba  (None, 2, 2, 128)            512       ['conv2d_15[0][0]']           \n",
      " tchNormalization)                                                                                \n",
      "                                                                                                  \n",
      " leaky_re_lu_26 (LeakyReLU)  (None, 2, 2, 128)            0         ['batch_normalization_25[0][0]\n",
      "                                                                    ']                            \n",
      "                                                                                                  \n",
      " flatten_3 (Flatten)         (None, 512)                  0         ['leaky_re_lu_26[0][0]']      \n",
      "                                                                                                  \n",
      " z_mean (Dense)              (None, 200)                  102600    ['flatten_3[0][0]']           \n",
      "                                                                                                  \n",
      " z_log_var (Dense)           (None, 200)                  102600    ['flatten_3[0][0]']           \n",
      "                                                                                                  \n",
      " sampling_2 (Sampling)       (None, 200)                  0         ['z_mean[0][0]',              \n",
      "                                                                     'z_log_var[0][0]']           \n",
      "                                                                                                  \n",
      "==================================================================================================\n",
      "Total params: 653584 (2.49 MB)\n",
      "Trainable params: 652560 (2.49 MB)\n",
      "Non-trainable params: 1024 (4.00 KB)\n",
      "__________________________________________________________________________________________________\n"
     ]
    }
   ],
   "source": [
    "encoder_input = layers.Input(shape=(32, 32, 3), name=\"encoder_input\")\n",
    "\n",
    "x = layers.Conv2D(128,(3,3),2, \"same\")(encoder_input)\n",
    "x = layers.BatchNormalization()(x)\n",
    "x = layers.LeakyReLU()(x)\n",
    "\n",
    "x = layers.Conv2D(128,(3,3),2, \"same\")(x)\n",
    "x = layers.BatchNormalization()(x)\n",
    "x = layers.LeakyReLU()(x)\n",
    "\n",
    "x = layers.Conv2D(128,(3,3),2, \"same\")(x)\n",
    "x = layers.BatchNormalization()(x)\n",
    "x = layers.LeakyReLU()(x)\n",
    "\n",
    "x = layers.Conv2D(128,(3,3),2, \"same\")(x)\n",
    "x = layers.BatchNormalization()(x)\n",
    "x = layers.LeakyReLU()(x)\n",
    "\n",
    "shape_before_flattening = K.int_shape(x)[1:] \n",
    "\n",
    "x = layers.Flatten()(x)\n",
    "z_mean = layers.Dense(200, name=\"z_mean\")(x)\n",
    "z_log_var = layers.Dense(200, name=\"z_log_var\")(x)\n",
    "z = Sampling()([z_mean, z_log_var])\n",
    "\n",
    "encoder = models.Model(encoder_input, [z_mean, z_log_var, z], name=\"encoder\")\n",
    "encoder.summary()"
   ]
  },
  {
   "cell_type": "code",
   "execution_count": 32,
   "metadata": {},
   "outputs": [
    {
     "name": "stdout",
     "output_type": "stream",
     "text": [
      "Model: \"model_3\"\n",
      "_________________________________________________________________\n",
      " Layer (type)                Output Shape              Param #   \n",
      "=================================================================\n",
      " decoder_input (InputLayer)  [(None, 200)]             0         \n",
      "                                                                 \n",
      " dense_6 (Dense)             (None, 512)               102912    \n",
      "                                                                 \n",
      " batch_normalization_26 (Ba  (None, 512)               2048      \n",
      " tchNormalization)                                               \n",
      "                                                                 \n",
      " leaky_re_lu_27 (LeakyReLU)  (None, 512)               0         \n",
      "                                                                 \n",
      " reshape_8 (Reshape)         (None, 2, 2, 128)         0         \n",
      "                                                                 \n",
      " conv2d_transpose_14 (Conv2  (None, 4, 4, 128)         147584    \n",
      " DTranspose)                                                     \n",
      "                                                                 \n",
      " batch_normalization_27 (Ba  (None, 4, 4, 128)         512       \n",
      " tchNormalization)                                               \n",
      "                                                                 \n",
      " leaky_re_lu_28 (LeakyReLU)  (None, 4, 4, 128)         0         \n",
      "                                                                 \n",
      " conv2d_transpose_15 (Conv2  (None, 8, 8, 128)         147584    \n",
      " DTranspose)                                                     \n",
      "                                                                 \n",
      " batch_normalization_28 (Ba  (None, 8, 8, 128)         512       \n",
      " tchNormalization)                                               \n",
      "                                                                 \n",
      " leaky_re_lu_29 (LeakyReLU)  (None, 8, 8, 128)         0         \n",
      "                                                                 \n",
      " conv2d_transpose_16 (Conv2  (None, 16, 16, 128)       147584    \n",
      " DTranspose)                                                     \n",
      "                                                                 \n",
      " batch_normalization_29 (Ba  (None, 16, 16, 128)       512       \n",
      " tchNormalization)                                               \n",
      "                                                                 \n",
      " leaky_re_lu_30 (LeakyReLU)  (None, 16, 16, 128)       0         \n",
      "                                                                 \n",
      " conv2d_transpose_17 (Conv2  (None, 32, 32, 128)       147584    \n",
      " DTranspose)                                                     \n",
      "                                                                 \n",
      " batch_normalization_30 (Ba  (None, 32, 32, 128)       512       \n",
      " tchNormalization)                                               \n",
      "                                                                 \n",
      " leaky_re_lu_31 (LeakyReLU)  (None, 32, 32, 128)       0         \n",
      "                                                                 \n",
      " decoder_output (Conv2D)     (None, 32, 32, 3)         3459      \n",
      "                                                                 \n",
      "=================================================================\n",
      "Total params: 700803 (2.67 MB)\n",
      "Trainable params: 698755 (2.67 MB)\n",
      "Non-trainable params: 2048 (8.00 KB)\n",
      "_________________________________________________________________\n"
     ]
    }
   ],
   "source": [
    "decoder_input = layers.Input(shape=(200,), name=\"decoder_input\")\n",
    "x = layers.Dense(np.prod(shape_before_flattening))(decoder_input)\n",
    "x = layers.BatchNormalization()(x)\n",
    "x = layers.LeakyReLU()(x)\n",
    "x = layers.Reshape(shape_before_flattening)(x)\n",
    "\n",
    "x = layers.Conv2DTranspose(128, (3,3),2, \"same\")(x)\n",
    "x = layers.BatchNormalization()(x)\n",
    "x = layers.LeakyReLU()(x)\n",
    "\n",
    "x = layers.Conv2DTranspose(128, (3,3),2, \"same\")(x)\n",
    "x = layers.BatchNormalization()(x)\n",
    "x = layers.LeakyReLU()(x)\n",
    "\n",
    "x = layers.Conv2DTranspose(128, (3,3),2, \"same\")(x)\n",
    "x = layers.BatchNormalization()(x)\n",
    "x = layers.LeakyReLU()(x)\n",
    "\n",
    "x = layers.Conv2DTranspose(128, (3,3),2, \"same\")(x)\n",
    "x = layers.BatchNormalization()(x)\n",
    "x = layers.LeakyReLU()(x)\n",
    "\n",
    "decoder_output = layers.Conv2D(3,(3, 3),1,\"same\",activation=\"sigmoid\",name=\"decoder_output\",)(x)\n",
    "\n",
    "decoder = models.Model(decoder_input, decoder_output)\n",
    "decoder.summary()"
   ]
  },
  {
   "cell_type": "code",
   "execution_count": 33,
   "metadata": {},
   "outputs": [],
   "source": [
    "vae = VAE(encoder, decoder)\n",
    "optimizer = optimizers.Adam(learning_rate=0.0005)\n",
    "vae.compile(optimizer=optimizer)"
   ]
  },
  {
   "cell_type": "code",
   "execution_count": 34,
   "metadata": {},
   "outputs": [],
   "source": [
    "# Create a model save checkpoint\n",
    "model_checkpoint_callback = callbacks.ModelCheckpoint(\n",
    "    filepath=\"./checkpoint/2\",\n",
    "    save_weights_only=False,\n",
    "    save_freq=\"epoch\",\n",
    "    monitor=\"loss\",\n",
    "    mode=\"min\",\n",
    "    save_best_only=True,\n",
    "    verbose=0,\n",
    ")\n",
    "tensorboard_callback = callbacks.TensorBoard(log_dir=\"./logs\")\n"
   ]
  },
  {
   "cell_type": "code",
   "execution_count": 35,
   "metadata": {},
   "outputs": [],
   "source": [
    "class ImageGenerator(callbacks.Callback):\n",
    "    def __init__(self, num_img, latent_dim):\n",
    "        self.num_img = num_img\n",
    "        self.latent_dim = latent_dim\n",
    "\n",
    "    def on_epoch_end(self, epoch, logs=None):\n",
    "        random_latent_vectors = tf.random.normal(\n",
    "            shape=(self.num_img, self.latent_dim)\n",
    "        )\n",
    "        generated_images = self.model.decoder(random_latent_vectors)\n",
    "        generated_images *= 255\n",
    "        generated_images.numpy()\n",
    "        for i in range(self.num_img):\n",
    "            img = utils.array_to_img(generated_images[i])\n",
    "            img.save(\"./output/generated_img_%03d_%d.png\" % (epoch, i))"
   ]
  },
  {
   "cell_type": "code",
   "execution_count": 36,
   "metadata": {},
   "outputs": [],
   "source": [
    "LOAD_MODEL = False"
   ]
  },
  {
   "cell_type": "code",
   "execution_count": 37,
   "metadata": {},
   "outputs": [],
   "source": [
    "if LOAD_MODEL:\n",
    "    vae.load_weights(\"./models/vae\")\n",
    "    tmp = vae.predict(train.take(1))"
   ]
  },
  {
   "cell_type": "code",
   "execution_count": null,
   "metadata": {},
   "outputs": [
    {
     "name": "stdout",
     "output_type": "stream",
     "text": [
      "Epoch 1/10\n",
      "1583/1583 [==============================] - ETA: 0s - total_loss: 285.2329 - reconstruction_loss: 274.2342 - kl_loss: 10.9988WARNING:tensorflow:Can save best model only with loss available, skipping.\n",
      "1583/1583 [==============================] - 1193s 753ms/step - total_loss: 285.2329 - reconstruction_loss: 274.2342 - kl_loss: 10.9988\n",
      "Epoch 2/10\n",
      "1583/1583 [==============================] - ETA: 0s - total_loss: 283.8140 - reconstruction_loss: 272.2155 - kl_loss: 11.5984WARNING:tensorflow:Can save best model only with loss available, skipping.\n",
      "1583/1583 [==============================] - 1524s 963ms/step - total_loss: 283.8140 - reconstruction_loss: 272.2155 - kl_loss: 11.5984\n",
      "Epoch 3/10\n",
      "1583/1583 [==============================] - ETA: 0s - total_loss: 283.2018 - reconstruction_loss: 271.3958 - kl_loss: 11.8062WARNING:tensorflow:Can save best model only with loss available, skipping.\n",
      "1583/1583 [==============================] - 1339s 846ms/step - total_loss: 283.2018 - reconstruction_loss: 271.3958 - kl_loss: 11.8062\n",
      "Epoch 4/10\n",
      " 440/1583 [=======>......................] - ETA: 14:50 - total_loss: 283.1105 - reconstruction_loss: 271.1696 - kl_loss: 11.9410"
     ]
    }
   ],
   "source": [
    "vae.fit(\n",
    "    train,\n",
    "    epochs=10,\n",
    "    callbacks=[\n",
    "        model_checkpoint_callback,\n",
    "        tensorboard_callback,\n",
    "        ImageGenerator(num_img=10, latent_dim=200),\n",
    "    ],\n",
    ")"
   ]
  },
  {
   "cell_type": "code",
   "execution_count": null,
   "metadata": {},
   "outputs": [],
   "source": []
  },
  {
   "cell_type": "code",
   "execution_count": null,
   "metadata": {},
   "outputs": [],
   "source": []
  },
  {
   "cell_type": "code",
   "execution_count": null,
   "metadata": {},
   "outputs": [],
   "source": []
  }
 ],
 "metadata": {
  "kernelspec": {
   "display_name": "Python 3 (ipykernel)",
   "language": "python",
   "name": "python3"
  },
  "language_info": {
   "codemirror_mode": {
    "name": "ipython",
    "version": 3
   },
   "file_extension": ".py",
   "mimetype": "text/x-python",
   "name": "python",
   "nbconvert_exporter": "python",
   "pygments_lexer": "ipython3",
   "version": "3.8.3rc1"
  }
 },
 "nbformat": 4,
 "nbformat_minor": 4
}
